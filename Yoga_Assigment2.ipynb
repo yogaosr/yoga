{
 "cells": [
  {
   "cell_type": "markdown",
   "metadata": {},
   "source": [
    "# **Assignment 2**:\n",
    "NO 1. Buatlah notebook file dengan format <nama_assignment2.ipynb> yang berisi sebuah function untuk :\n",
    "  * Mereturn angka disuatu posisi berdasarkan bilangan pertama dari sebuah daftar angka-angka.\n",
    "  * Urutan posisi dimulai dari bilangan kedua.\n",
    "  * Jika bilangan pertama melebihi jumlah banyaknya daftar angka-angka, maka return **-1**.\n",
    "  * Input : daftar angka\n",
    "\n",
    "| No | Input | Output |\n",
    "| - | - | - |\n",
    "| 1 | (3, 10, 20, 30, 40) | 40 |\n",
    "| 2 | (0, -10, 10)| -10 |\n",
    "| 3 | (1, 2, 300, 10) | 300 |\n",
    "| 4 | (100, 200, 300, -400) | -1 |\n",
    "| 5 | (4, 200, 300, -400) | -1 |"
   ]
  },
  {
   "cell_type": "code",
   "execution_count": 15,
   "metadata": {},
   "outputs": [],
   "source": [
    "def temukan_angka(daftar_angka): #soal no 1\n",
    "\n",
    "  posisi = daftar_angka[0]\n",
    "\n",
    "  if posisi >= len(daftar_angka):\n",
    "    return -1\n",
    "\n",
    "  return daftar_angka[posisi +1]\n",
    "\n",
    "def luas_segitiga(): #soal no 2\n",
    "    alas = float(input('Masukan alas segitiga: '))\n",
    "    tinggi = float(input(\"Masukan tinggi segitiga: \"))\n",
    "    luas = 1 / 2 * alas * tinggi\n",
    "    print(\"Luas segitiga : \", luas)\n",
    "    return luas\n",
    "\n",
    "def keliling_segitiga():\n",
    "    s1 = float(input(\"Masukan sisi 1 segitiga: \"))\n",
    "    s2 = float(input(\"Masukan sisi 2 segitiga: \"))\n",
    "    s3 = float(input(\"Masukan sisi 3 segitiga: \"))\n",
    "    keliling = s1 + s2 + s3 \n",
    "    print(\"Keliling Segitiga : \", keliling)"
   ]
  },
  {
   "cell_type": "code",
   "execution_count": 16,
   "metadata": {},
   "outputs": [
    {
     "name": "stdout",
     "output_type": "stream",
     "text": [
      "40\n",
      "-10\n",
      "300\n",
      "-1\n",
      "-1\n"
     ]
    }
   ],
   "source": [
    "print(temukan_angka([3, 10, 20, 30, 40]))\n",
    "print(temukan_angka([0, -10, 10]))\n",
    "print(temukan_angka([1, 2, 300, 10]))\n",
    "print(temukan_angka([100, 200, 300, -400]))\n",
    "print(temukan_angka([4, 200, 300, -400]))"
   ]
  },
  {
   "cell_type": "markdown",
   "metadata": {},
   "source": [
    "NO 2. Buat module Python bernama `rumus.py` yang berisi dua fungsi: satu untuk menghitung luas segitiga dan satu lagi untuk menghitung keliling segitiga. Gunakan module tersebut di notebook utama (pada soal no 1)."
   ]
  },
  {
   "cell_type": "code",
   "execution_count": null,
   "metadata": {},
   "outputs": [
    {
     "name": "stdout",
     "output_type": "stream",
     "text": [
      "1. Mencari Luas Segitiga\n",
      "2. Mencari Keliling Segitiga\n",
      "3. Tutup\n",
      "Anda Pilih Menu 1\n",
      "Luas segitiga :  50.0\n",
      "1. Mencari Luas Segitiga\n",
      "2. Mencari Keliling Segitiga\n",
      "3. Tutup\n"
     ]
    }
   ],
   "source": [
    "while True:\n",
    "    print(\"1. Mencari Luas Segitiga\")\n",
    "    print(\"2. Mencari Keliling Segitiga\")\n",
    "    print(\"3. Tutup\")\n",
    "    option = input(\"Option 1-3 : \")\n",
    "    if option == \"1\":\n",
    "        print(\"Anda Pilih Menu 1\")\n",
    "        luas_segitiga()\n",
    "    elif option == \"2\":\n",
    "        print(\"Anda Pilih Menu 2\")\n",
    "        keliling_segitiga()\n",
    "    elif option == '3':\n",
    "        break"
   ]
  }
 ],
 "metadata": {
  "kernelspec": {
   "display_name": "Python 3",
   "language": "python",
   "name": "python3"
  },
  "language_info": {
   "codemirror_mode": {
    "name": "ipython",
    "version": 3
   },
   "file_extension": ".py",
   "mimetype": "text/x-python",
   "name": "python",
   "nbconvert_exporter": "python",
   "pygments_lexer": "ipython3",
   "version": "3.13.0"
  }
 },
 "nbformat": 4,
 "nbformat_minor": 2
}
